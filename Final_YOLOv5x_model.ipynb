{
 "cells": [
  {
   "cell_type": "code",
   "execution_count": null,
   "metadata": {},
   "outputs": [],
   "source": [
    "%cd content\n",
    "!git clone https://github.com/ultralytics/yolov5.git"
   ]
  },
  {
   "cell_type": "code",
   "execution_count": 5,
   "metadata": {
    "scrolled": false
   },
   "outputs": [
    {
     "name": "stdout",
     "output_type": "stream",
     "text": [
      "/Users/jehuh/work_mldl/mldl_kdigital_final/content/yolov5\n",
      "Requirement already satisfied: Cython in /Users/jehuh/opt/anaconda3/lib/python3.8/site-packages (from -r requirements.txt (line 4)) (0.29.21)\n",
      "Requirement already satisfied: matplotlib>=3.2.2 in /Users/jehuh/opt/anaconda3/lib/python3.8/site-packages (from -r requirements.txt (line 5)) (3.3.2)\n",
      "Requirement already satisfied: numpy>=1.18.5 in /Users/jehuh/opt/anaconda3/lib/python3.8/site-packages (from -r requirements.txt (line 6)) (1.19.2)\n",
      "Collecting opencv-python>=4.1.2\n",
      "  Downloading opencv_python-4.5.1.48-cp38-cp38-macosx_10_13_x86_64.whl (40.3 MB)\n",
      "\u001b[K     |████████████████████████████████| 40.3 MB 1.6 MB/s eta 0:00:01     |████████████                    | 15.1 MB 4.8 MB/s eta 0:00:06\n",
      "\u001b[?25hRequirement already satisfied: Pillow in /Users/jehuh/opt/anaconda3/lib/python3.8/site-packages (from -r requirements.txt (line 8)) (8.0.1)\n",
      "Requirement already satisfied: PyYAML>=5.3.1 in /Users/jehuh/opt/anaconda3/lib/python3.8/site-packages (from -r requirements.txt (line 9)) (5.3.1)\n",
      "Requirement already satisfied: scipy>=1.4.1 in /Users/jehuh/opt/anaconda3/lib/python3.8/site-packages (from -r requirements.txt (line 10)) (1.5.2)\n",
      "Requirement already satisfied: tensorboard>=2.2 in /Users/jehuh/opt/anaconda3/lib/python3.8/site-packages (from -r requirements.txt (line 11)) (2.4.1)\n",
      "Requirement already satisfied: torch>=1.7.0 in /Users/jehuh/opt/anaconda3/lib/python3.8/site-packages (from -r requirements.txt (line 12)) (1.7.1)\n",
      "Requirement already satisfied: torchvision>=0.8.1 in /Users/jehuh/opt/anaconda3/lib/python3.8/site-packages (from -r requirements.txt (line 13)) (0.8.2)\n",
      "Requirement already satisfied: tqdm>=4.41.0 in /Users/jehuh/opt/anaconda3/lib/python3.8/site-packages (from -r requirements.txt (line 14)) (4.50.2)\n",
      "Requirement already satisfied: seaborn>=0.11.0 in /Users/jehuh/opt/anaconda3/lib/python3.8/site-packages (from -r requirements.txt (line 20)) (0.11.0)\n",
      "Requirement already satisfied: pandas in /Users/jehuh/opt/anaconda3/lib/python3.8/site-packages (from -r requirements.txt (line 21)) (1.1.3)\n",
      "Collecting thop\n",
      "  Downloading thop-0.0.31.post2005241907-py3-none-any.whl (8.7 kB)\n",
      "Collecting pycocotools>=2.0\n",
      "  Downloading pycocotools-2.0.2.tar.gz (23 kB)\n",
      "Requirement already satisfied: cycler>=0.10 in /Users/jehuh/opt/anaconda3/lib/python3.8/site-packages (from matplotlib>=3.2.2->-r requirements.txt (line 5)) (0.10.0)\n",
      "Requirement already satisfied: python-dateutil>=2.1 in /Users/jehuh/opt/anaconda3/lib/python3.8/site-packages (from matplotlib>=3.2.2->-r requirements.txt (line 5)) (2.8.1)\n",
      "Requirement already satisfied: certifi>=2020.06.20 in /Users/jehuh/opt/anaconda3/lib/python3.8/site-packages (from matplotlib>=3.2.2->-r requirements.txt (line 5)) (2020.6.20)\n",
      "Requirement already satisfied: kiwisolver>=1.0.1 in /Users/jehuh/opt/anaconda3/lib/python3.8/site-packages (from matplotlib>=3.2.2->-r requirements.txt (line 5)) (1.3.0)\n",
      "Requirement already satisfied: pyparsing!=2.0.4,!=2.1.2,!=2.1.6,>=2.0.3 in /Users/jehuh/opt/anaconda3/lib/python3.8/site-packages (from matplotlib>=3.2.2->-r requirements.txt (line 5)) (2.4.7)\n",
      "Requirement already satisfied: google-auth-oauthlib<0.5,>=0.4.1 in /Users/jehuh/opt/anaconda3/lib/python3.8/site-packages (from tensorboard>=2.2->-r requirements.txt (line 11)) (0.4.2)\n",
      "Requirement already satisfied: grpcio>=1.24.3 in /Users/jehuh/opt/anaconda3/lib/python3.8/site-packages (from tensorboard>=2.2->-r requirements.txt (line 11)) (1.32.0)\n",
      "Requirement already satisfied: setuptools>=41.0.0 in /Users/jehuh/opt/anaconda3/lib/python3.8/site-packages (from tensorboard>=2.2->-r requirements.txt (line 11)) (50.3.1.post20201107)\n",
      "Requirement already satisfied: werkzeug>=0.11.15 in /Users/jehuh/opt/anaconda3/lib/python3.8/site-packages (from tensorboard>=2.2->-r requirements.txt (line 11)) (1.0.1)\n",
      "Requirement already satisfied: requests<3,>=2.21.0 in /Users/jehuh/opt/anaconda3/lib/python3.8/site-packages (from tensorboard>=2.2->-r requirements.txt (line 11)) (2.24.0)\n",
      "Requirement already satisfied: absl-py>=0.4 in /Users/jehuh/opt/anaconda3/lib/python3.8/site-packages (from tensorboard>=2.2->-r requirements.txt (line 11)) (0.11.0)\n",
      "Requirement already satisfied: wheel>=0.26; python_version >= \"3\" in /Users/jehuh/opt/anaconda3/lib/python3.8/site-packages (from tensorboard>=2.2->-r requirements.txt (line 11)) (0.35.1)\n",
      "Requirement already satisfied: google-auth<2,>=1.6.3 in /Users/jehuh/opt/anaconda3/lib/python3.8/site-packages (from tensorboard>=2.2->-r requirements.txt (line 11)) (1.27.0)\n",
      "Requirement already satisfied: tensorboard-plugin-wit>=1.6.0 in /Users/jehuh/opt/anaconda3/lib/python3.8/site-packages (from tensorboard>=2.2->-r requirements.txt (line 11)) (1.8.0)\n",
      "Requirement already satisfied: markdown>=2.6.8 in /Users/jehuh/opt/anaconda3/lib/python3.8/site-packages (from tensorboard>=2.2->-r requirements.txt (line 11)) (3.3.3)\n",
      "Requirement already satisfied: protobuf>=3.6.0 in /Users/jehuh/opt/anaconda3/lib/python3.8/site-packages (from tensorboard>=2.2->-r requirements.txt (line 11)) (3.15.1)\n",
      "Requirement already satisfied: six>=1.10.0 in /Users/jehuh/opt/anaconda3/lib/python3.8/site-packages (from tensorboard>=2.2->-r requirements.txt (line 11)) (1.15.0)\n",
      "Requirement already satisfied: typing-extensions in /Users/jehuh/opt/anaconda3/lib/python3.8/site-packages (from torch>=1.7.0->-r requirements.txt (line 12)) (3.7.4.3)\n",
      "Requirement already satisfied: pytz>=2017.2 in /Users/jehuh/opt/anaconda3/lib/python3.8/site-packages (from pandas->-r requirements.txt (line 21)) (2020.1)\n",
      "Requirement already satisfied: requests-oauthlib>=0.7.0 in /Users/jehuh/opt/anaconda3/lib/python3.8/site-packages (from google-auth-oauthlib<0.5,>=0.4.1->tensorboard>=2.2->-r requirements.txt (line 11)) (1.3.0)\n",
      "Requirement already satisfied: chardet<4,>=3.0.2 in /Users/jehuh/opt/anaconda3/lib/python3.8/site-packages (from requests<3,>=2.21.0->tensorboard>=2.2->-r requirements.txt (line 11)) (3.0.4)\n",
      "Requirement already satisfied: urllib3!=1.25.0,!=1.25.1,<1.26,>=1.21.1 in /Users/jehuh/opt/anaconda3/lib/python3.8/site-packages (from requests<3,>=2.21.0->tensorboard>=2.2->-r requirements.txt (line 11)) (1.25.11)\n",
      "Requirement already satisfied: idna<3,>=2.5 in /Users/jehuh/opt/anaconda3/lib/python3.8/site-packages (from requests<3,>=2.21.0->tensorboard>=2.2->-r requirements.txt (line 11)) (2.10)\n",
      "Requirement already satisfied: rsa<5,>=3.1.4; python_version >= \"3.6\" in /Users/jehuh/opt/anaconda3/lib/python3.8/site-packages (from google-auth<2,>=1.6.3->tensorboard>=2.2->-r requirements.txt (line 11)) (4.7.1)\n",
      "Requirement already satisfied: cachetools<5.0,>=2.0.0 in /Users/jehuh/opt/anaconda3/lib/python3.8/site-packages (from google-auth<2,>=1.6.3->tensorboard>=2.2->-r requirements.txt (line 11)) (4.2.1)\n",
      "Requirement already satisfied: pyasn1-modules>=0.2.1 in /Users/jehuh/opt/anaconda3/lib/python3.8/site-packages (from google-auth<2,>=1.6.3->tensorboard>=2.2->-r requirements.txt (line 11)) (0.2.8)\n",
      "Requirement already satisfied: oauthlib>=3.0.0 in /Users/jehuh/opt/anaconda3/lib/python3.8/site-packages (from requests-oauthlib>=0.7.0->google-auth-oauthlib<0.5,>=0.4.1->tensorboard>=2.2->-r requirements.txt (line 11)) (3.1.0)\n",
      "Requirement already satisfied: pyasn1>=0.1.3 in /Users/jehuh/opt/anaconda3/lib/python3.8/site-packages (from rsa<5,>=3.1.4; python_version >= \"3.6\"->google-auth<2,>=1.6.3->tensorboard>=2.2->-r requirements.txt (line 11)) (0.4.8)\n",
      "Building wheels for collected packages: pycocotools\n",
      "  Building wheel for pycocotools (setup.py) ... \u001b[?25ldone\n",
      "\u001b[?25h  Created wheel for pycocotools: filename=pycocotools-2.0.2-cp38-cp38-macosx_10_9_x86_64.whl size=89295 sha256=665b302b7bb7e4fb1fc8328b2001d7f93e90d5de69f3639a89be9591f1f2eef3\n",
      "  Stored in directory: /Users/jehuh/Library/Caches/pip/wheels/e7/77/b2/6f38b5bea571cd8f4689f91a7c1ed2eaecb2c2ce17f9945b17\n",
      "Successfully built pycocotools\n",
      "Installing collected packages: opencv-python, thop, pycocotools\n",
      "Successfully installed opencv-python-4.5.1.48 pycocotools-2.0.2 thop-0.0.31.post2005241907\n"
     ]
    }
   ],
   "source": [
    "%cd yolov5\n",
    "!pip install -r requirements.txt"
   ]
  },
  {
   "cell_type": "code",
   "execution_count": 48,
   "metadata": {},
   "outputs": [
    {
     "name": "stdout",
     "output_type": "stream",
     "text": [
      "/Users/jehuh/work_mldl/mldl_kdigital_final/content\n"
     ]
    }
   ],
   "source": [
    "%cd .."
   ]
  },
  {
   "cell_type": "code",
   "execution_count": 52,
   "metadata": {},
   "outputs": [
    {
     "name": "stdout",
     "output_type": "stream",
     "text": [
      "/Users/jehuh/work_mldl/mldl_kdigital_final/content\n"
     ]
    }
   ],
   "source": [
    "%cd .."
   ]
  },
  {
   "cell_type": "code",
   "execution_count": 36,
   "metadata": {},
   "outputs": [
    {
     "name": "stdout",
     "output_type": "stream",
     "text": [
      "/Users/jehuh/work_mldl/mldl_kdigital_final/content\n"
     ]
    }
   ],
   "source": [
    "%cd content"
   ]
  },
  {
   "cell_type": "code",
   "execution_count": 37,
   "metadata": {
    "scrolled": true
   },
   "outputs": [
    {
     "name": "stdout",
     "output_type": "stream",
     "text": [
      "train: ../train/images\r\n",
      "val: ../valid/images\r\n",
      "\r\n",
      "nc: 27\r\n",
      "names: ['barricade', 'bench', 'bicycle', 'bollard', 'bus', 'car', 'carrier', 'cat',  'chair', 'dog', 'fire_hydrant', 'kiosk', 'motorcycle', 'movable_signage', 'parking_meter', 'person', 'pole', 'potted_plant', 'scooter', 'stop', 'stroller', 'table', 'traffic_light', 'traffic_sign', 'tree_trunk', 'truck', 'wheelchair']\r\n"
     ]
    }
   ],
   "source": [
    "%cat data.yaml"
   ]
  },
  {
   "cell_type": "code",
   "execution_count": 53,
   "metadata": {},
   "outputs": [
    {
     "name": "stdout",
     "output_type": "stream",
     "text": [
      "/Users/jehuh/work_mldl/mldl_kdigital_final/content/yolov5\n"
     ]
    }
   ],
   "source": [
    "%cd yolov5"
   ]
  },
  {
   "cell_type": "code",
   "execution_count": 55,
   "metadata": {},
   "outputs": [
    {
     "name": "stdout",
     "output_type": "stream",
     "text": [
      "\u001b[34m\u001b[1mgithub: \u001b[0mup to date with https://github.com/ultralytics/yolov5 ✅\n",
      "YOLOv5 v4.0-102-g71dd276 torch 1.7.1 CPU\n",
      "\n",
      "Namespace(adam=False, batch_size=16, bucket='', cache_images=False, cfg='./models/yolov5s.yaml', data='../data.yaml', device='', epochs=50, evolve=False, exist_ok=False, global_rank=-1, hyp='data/hyp.scratch.yaml', image_weights=False, img_size=[416, 416], linear_lr=False, local_rank=-1, log_artifacts=False, log_imgs=16, multi_scale=False, name='aihub', noautoanchor=False, nosave=False, notest=False, project='runs/train', quad=False, rect=False, resume=False, save_dir='runs/train/aihub', single_cls=False, sync_bn=False, total_batch_size=16, weights='', workers=8, world_size=1)\n",
      "Start Tensorboard with \"tensorboard --logdir runs/train\", view at http://localhost:6006/\n"
     ]
    }
   ],
   "source": [
    "!python train.py --img 416 --batch 16 --epochs 50 --data ../data.yaml --cfg ./models/yolov5s.yaml --weights '' --name aihub"
   ]
  },
  {
   "cell_type": "code",
   "execution_count": 20,
   "metadata": {
    "collapsed": true
   },
   "outputs": [
    {
     "name": "stdout",
     "output_type": "stream",
     "text": [
      "Collecting wandb\n",
      "  Downloading wandb-0.10.20-py2.py3-none-any.whl (2.0 MB)\n",
      "\u001b[K     |████████████████████████████████| 2.0 MB 1.9 MB/s eta 0:00:01\n",
      "\u001b[?25hCollecting GitPython>=1.0.0\n",
      "  Downloading GitPython-3.1.13-py3-none-any.whl (159 kB)\n",
      "\u001b[K     |████████████████████████████████| 159 kB 688 kB/s eta 0:00:01\n",
      "\u001b[?25hRequirement already satisfied: protobuf>=3.12.0 in /Users/jehuh/opt/anaconda3/lib/python3.8/site-packages (from wandb) (3.15.1)\n",
      "Collecting sentry-sdk>=0.4.0\n",
      "  Downloading sentry_sdk-0.20.3-py2.py3-none-any.whl (131 kB)\n",
      "\u001b[K     |████████████████████████████████| 131 kB 1.5 MB/s eta 0:00:01\n",
      "\u001b[?25hCollecting docker-pycreds>=0.4.0\n",
      "  Downloading docker_pycreds-0.4.0-py2.py3-none-any.whl (9.0 kB)\n",
      "Requirement already satisfied: requests<3,>=2.0.0 in /Users/jehuh/opt/anaconda3/lib/python3.8/site-packages (from wandb) (2.24.0)\n",
      "Collecting configparser>=3.8.1\n",
      "  Downloading configparser-5.0.1-py3-none-any.whl (22 kB)\n",
      "Requirement already satisfied: six>=1.13.0 in /Users/jehuh/opt/anaconda3/lib/python3.8/site-packages (from wandb) (1.15.0)\n",
      "Collecting promise<3,>=2.0\n",
      "  Downloading promise-2.3.tar.gz (19 kB)\n",
      "Collecting shortuuid>=0.5.0\n",
      "  Downloading shortuuid-1.0.1-py3-none-any.whl (7.5 kB)\n",
      "Requirement already satisfied: PyYAML in /Users/jehuh/opt/anaconda3/lib/python3.8/site-packages (from wandb) (5.3.1)\n",
      "Requirement already satisfied: psutil>=5.0.0 in /Users/jehuh/opt/anaconda3/lib/python3.8/site-packages (from wandb) (5.7.2)\n",
      "Requirement already satisfied: python-dateutil>=2.6.1 in /Users/jehuh/opt/anaconda3/lib/python3.8/site-packages (from wandb) (2.8.1)\n",
      "Collecting subprocess32>=3.5.3\n",
      "  Downloading subprocess32-3.5.4.tar.gz (97 kB)\n",
      "\u001b[K     |████████████████████████████████| 97 kB 4.3 MB/s eta 0:00:01\n",
      "\u001b[?25hRequirement already satisfied: pathtools in /Users/jehuh/opt/anaconda3/lib/python3.8/site-packages (from wandb) (0.1.2)\n",
      "Requirement already satisfied: Click>=7.0 in /Users/jehuh/opt/anaconda3/lib/python3.8/site-packages (from wandb) (7.1.2)\n",
      "Collecting gitdb<5,>=4.0.1\n",
      "  Downloading gitdb-4.0.5-py3-none-any.whl (63 kB)\n",
      "\u001b[K     |████████████████████████████████| 63 kB 4.5 MB/s eta 0:00:011\n",
      "\u001b[?25hRequirement already satisfied: certifi in /Users/jehuh/opt/anaconda3/lib/python3.8/site-packages (from sentry-sdk>=0.4.0->wandb) (2020.6.20)\n",
      "Requirement already satisfied: urllib3>=1.10.0 in /Users/jehuh/opt/anaconda3/lib/python3.8/site-packages (from sentry-sdk>=0.4.0->wandb) (1.25.11)\n",
      "Requirement already satisfied: idna<3,>=2.5 in /Users/jehuh/opt/anaconda3/lib/python3.8/site-packages (from requests<3,>=2.0.0->wandb) (2.10)\n",
      "Requirement already satisfied: chardet<4,>=3.0.2 in /Users/jehuh/opt/anaconda3/lib/python3.8/site-packages (from requests<3,>=2.0.0->wandb) (3.0.4)\n",
      "Collecting smmap<4,>=3.0.1\n",
      "  Downloading smmap-3.0.5-py2.py3-none-any.whl (25 kB)\n",
      "Building wheels for collected packages: promise, subprocess32\n",
      "  Building wheel for promise (setup.py) ... \u001b[?25ldone\n",
      "\u001b[?25h  Created wheel for promise: filename=promise-2.3-py3-none-any.whl size=21494 sha256=0fb581a75fa2bc35107d6d6fa70601431d47c12593f73873a17ae062b5b1eeda\n",
      "  Stored in directory: /Users/jehuh/Library/Caches/pip/wheels/54/aa/01/724885182f93150035a2a91bce34a12877e8067a97baaf5dc8\n",
      "  Building wheel for subprocess32 (setup.py) ... \u001b[?25ldone\n",
      "\u001b[?25h  Created wheel for subprocess32: filename=subprocess32-3.5.4-py3-none-any.whl size=6487 sha256=0070a39c55036551a9367a9489e4d611c376c28c74cbdee66fbfed22a7c86529\n",
      "  Stored in directory: /Users/jehuh/Library/Caches/pip/wheels/9f/69/d1/50b39b308a87998eaf5c1d9095e5a5bd2ad98501e2b7936d36\n",
      "Successfully built promise subprocess32\n",
      "Installing collected packages: smmap, gitdb, GitPython, sentry-sdk, docker-pycreds, configparser, promise, shortuuid, subprocess32, wandb\n",
      "Successfully installed GitPython-3.1.13 configparser-5.0.1 docker-pycreds-0.4.0 gitdb-4.0.5 promise-2.3 sentry-sdk-0.20.3 shortuuid-1.0.1 smmap-3.0.5 subprocess32-3.5.4 wandb-0.10.20\n",
      "Note: you may need to restart the kernel to use updated packages.\n"
     ]
    }
   ],
   "source": [
    "pip install wandb"
   ]
  },
  {
   "cell_type": "code",
   "execution_count": 26,
   "metadata": {},
   "outputs": [
    {
     "name": "stdout",
     "output_type": "stream",
     "text": [
      "Namespace(agnostic_nms=False, augment=False, classes=None, conf_thres=0.5, device='', exist_ok=False, img_size=416, iou_thres=0.45, name='exp', project='runs/detect', save_conf=False, save_txt=False, source='../test/images', update=False, view_img=False, weights=['runs/train/aihub/weights/best.pt'])\n",
      "YOLOv5 v4.0-102-g71dd276 torch 1.7.1 CPU\n",
      "\n",
      "Traceback (most recent call last):\n",
      "  File \"detect.py\", line 175, in <module>\n",
      "    detect()\n",
      "  File \"detect.py\", line 33, in detect\n",
      "    model = attempt_load(weights, map_location=device)  # load FP32 model\n",
      "  File \"/Users/jehuh/work_mldl/mldl_kdigital_final/content/yolov5/models/experimental.py\", line 118, in attempt_load\n",
      "    model.append(torch.load(w, map_location=map_location)['model'].float().fuse().eval())  # load FP32 model\n",
      "  File \"/Users/jehuh/opt/anaconda3/lib/python3.8/site-packages/torch/serialization.py\", line 581, in load\n",
      "    with _open_file_like(f, 'rb') as opened_file:\n",
      "  File \"/Users/jehuh/opt/anaconda3/lib/python3.8/site-packages/torch/serialization.py\", line 230, in _open_file_like\n",
      "    return _open_file(name_or_buffer, mode)\n",
      "  File \"/Users/jehuh/opt/anaconda3/lib/python3.8/site-packages/torch/serialization.py\", line 211, in __init__\n",
      "    super(_open_file, self).__init__(open(name, mode))\n",
      "FileNotFoundError: [Errno 2] No such file or directory: 'runs/train/aihub/weights/best.pt'\n"
     ]
    }
   ],
   "source": [
    "from IPython.display import Image\n",
    "import os\n",
    "\n",
    "!python detect.py --weights runs/train/aihub/weights/best.pt --img 416 --conf 0.5 --source ../test/images"
   ]
  },
  {
   "cell_type": "code",
   "execution_count": null,
   "metadata": {},
   "outputs": [],
   "source": [
    "uploaded = files.upload()"
   ]
  },
  {
   "cell_type": "code",
   "execution_count": null,
   "metadata": {},
   "outputs": [],
   "source": [
    "!python detect.py --weights /content/yolov5/runs/train/aihub/weights/best.pt  --conf 0.4 --source IMG_2019.MOV"
   ]
  }
 ],
 "metadata": {
  "kernelspec": {
   "display_name": "Python 3",
   "language": "python",
   "name": "python3"
  },
  "language_info": {
   "codemirror_mode": {
    "name": "ipython",
    "version": 3
   },
   "file_extension": ".py",
   "mimetype": "text/x-python",
   "name": "python",
   "nbconvert_exporter": "python",
   "pygments_lexer": "ipython3",
   "version": "3.8.5"
  }
 },
 "nbformat": 4,
 "nbformat_minor": 4
}
